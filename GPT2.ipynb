{
 "cells": [
  {
   "cell_type": "code",
   "execution_count": 2,
   "id": "943a9af6",
   "metadata": {},
   "outputs": [
    {
     "name": "stdout",
     "output_type": "stream",
     "text": [
      "Requirement already satisfied: transformers in c:\\users\\vikas\\anaconda3\\lib\\site-packages (4.24.0)\n",
      "Requirement already satisfied: requests in c:\\users\\vikas\\anaconda3\\lib\\site-packages (from transformers) (2.28.1)\n",
      "Requirement already satisfied: packaging>=20.0 in c:\\users\\vikas\\anaconda3\\lib\\site-packages (from transformers) (22.0)\n",
      "Requirement already satisfied: tqdm>=4.27 in c:\\users\\vikas\\anaconda3\\lib\\site-packages (from transformers) (4.64.1)\n",
      "Requirement already satisfied: pyyaml>=5.1 in c:\\users\\vikas\\anaconda3\\lib\\site-packages (from transformers) (6.0)\n",
      "Requirement already satisfied: huggingface-hub<1.0,>=0.10.0 in c:\\users\\vikas\\anaconda3\\lib\\site-packages (from transformers) (0.10.1)\n",
      "Requirement already satisfied: numpy>=1.17 in c:\\users\\vikas\\anaconda3\\lib\\site-packages (from transformers) (1.23.5)\n",
      "Requirement already satisfied: tokenizers!=0.11.3,<0.14,>=0.11.1 in c:\\users\\vikas\\anaconda3\\lib\\site-packages (from transformers) (0.11.4)\n",
      "Requirement already satisfied: filelock in c:\\users\\vikas\\anaconda3\\lib\\site-packages (from transformers) (3.9.0)\n",
      "Requirement already satisfied: regex!=2019.12.17 in c:\\users\\vikas\\anaconda3\\lib\\site-packages (from transformers) (2022.7.9)\n",
      "Requirement already satisfied: typing-extensions>=3.7.4.3 in c:\\users\\vikas\\anaconda3\\lib\\site-packages (from huggingface-hub<1.0,>=0.10.0->transformers) (4.4.0)\n",
      "Requirement already satisfied: colorama in c:\\users\\vikas\\anaconda3\\lib\\site-packages (from tqdm>=4.27->transformers) (0.4.6)\n",
      "Requirement already satisfied: certifi>=2017.4.17 in c:\\users\\vikas\\anaconda3\\lib\\site-packages (from requests->transformers) (2022.12.7)\n",
      "Requirement already satisfied: charset-normalizer<3,>=2 in c:\\users\\vikas\\anaconda3\\lib\\site-packages (from requests->transformers) (2.0.4)\n",
      "Requirement already satisfied: idna<4,>=2.5 in c:\\users\\vikas\\anaconda3\\lib\\site-packages (from requests->transformers) (3.4)\n",
      "Requirement already satisfied: urllib3<1.27,>=1.21.1 in c:\\users\\vikas\\anaconda3\\lib\\site-packages (from requests->transformers) (1.26.14)\n"
     ]
    }
   ],
   "source": [
    "!pip install transformers"
   ]
  },
  {
   "cell_type": "code",
   "execution_count": 4,
   "id": "ee2227d2",
   "metadata": {},
   "outputs": [],
   "source": [
    "from transformers import GPT2LMHeadModel"
   ]
  },
  {
   "cell_type": "code",
   "execution_count": 6,
   "id": "0635d77b",
   "metadata": {},
   "outputs": [],
   "source": [
    "from transformers import GPT2Tokenizer"
   ]
  },
  {
   "cell_type": "code",
   "execution_count": 13,
   "id": "dcc6df4c",
   "metadata": {},
   "outputs": [],
   "source": [
    "# Sub title\n"
   ]
  },
  {
   "cell_type": "code",
   "execution_count": 8,
   "id": "312cb9cb",
   "metadata": {},
   "outputs": [
    {
     "name": "stdout",
     "output_type": "stream",
     "text": [
      "Collecting jupyterthemes\n",
      "  Downloading jupyterthemes-0.20.0-py2.py3-none-any.whl (7.0 MB)\n",
      "     ---------------------------------------- 7.0/7.0 MB 40.8 MB/s eta 0:00:00\n",
      "Requirement already satisfied: matplotlib>=1.4.3 in c:\\users\\vikas\\anaconda3\\lib\\site-packages (from jupyterthemes) (3.7.0)\n",
      "Requirement already satisfied: jupyter-core in c:\\users\\vikas\\anaconda3\\lib\\site-packages (from jupyterthemes) (5.2.0)\n",
      "Collecting lesscpy>=0.11.2\n",
      "  Downloading lesscpy-0.15.1-py2.py3-none-any.whl (46 kB)\n",
      "     ---------------------------------------- 46.7/46.7 kB 1.2 MB/s eta 0:00:00\n",
      "Requirement already satisfied: ipython>=5.4.1 in c:\\users\\vikas\\anaconda3\\lib\\site-packages (from jupyterthemes) (8.10.0)\n",
      "Requirement already satisfied: notebook>=5.6.0 in c:\\users\\vikas\\anaconda3\\lib\\site-packages (from jupyterthemes) (6.5.2)\n",
      "Requirement already satisfied: stack-data in c:\\users\\vikas\\anaconda3\\lib\\site-packages (from ipython>=5.4.1->jupyterthemes) (0.2.0)\n",
      "Requirement already satisfied: matplotlib-inline in c:\\users\\vikas\\anaconda3\\lib\\site-packages (from ipython>=5.4.1->jupyterthemes) (0.1.6)\n",
      "Requirement already satisfied: colorama in c:\\users\\vikas\\anaconda3\\lib\\site-packages (from ipython>=5.4.1->jupyterthemes) (0.4.6)\n",
      "Requirement already satisfied: decorator in c:\\users\\vikas\\anaconda3\\lib\\site-packages (from ipython>=5.4.1->jupyterthemes) (5.1.1)\n",
      "Requirement already satisfied: prompt-toolkit<3.1.0,>=3.0.30 in c:\\users\\vikas\\anaconda3\\lib\\site-packages (from ipython>=5.4.1->jupyterthemes) (3.0.36)\n",
      "Requirement already satisfied: pygments>=2.4.0 in c:\\users\\vikas\\anaconda3\\lib\\site-packages (from ipython>=5.4.1->jupyterthemes) (2.11.2)\n",
      "Requirement already satisfied: jedi>=0.16 in c:\\users\\vikas\\anaconda3\\lib\\site-packages (from ipython>=5.4.1->jupyterthemes) (0.18.1)\n",
      "Requirement already satisfied: pickleshare in c:\\users\\vikas\\anaconda3\\lib\\site-packages (from ipython>=5.4.1->jupyterthemes) (0.7.5)\n",
      "Requirement already satisfied: backcall in c:\\users\\vikas\\anaconda3\\lib\\site-packages (from ipython>=5.4.1->jupyterthemes) (0.2.0)\n",
      "Requirement already satisfied: traitlets>=5 in c:\\users\\vikas\\anaconda3\\lib\\site-packages (from ipython>=5.4.1->jupyterthemes) (5.7.1)\n",
      "Requirement already satisfied: ply in c:\\users\\vikas\\anaconda3\\lib\\site-packages (from lesscpy>=0.11.2->jupyterthemes) (3.11)\n",
      "Requirement already satisfied: packaging>=20.0 in c:\\users\\vikas\\anaconda3\\lib\\site-packages (from matplotlib>=1.4.3->jupyterthemes) (22.0)\n",
      "Requirement already satisfied: kiwisolver>=1.0.1 in c:\\users\\vikas\\anaconda3\\lib\\site-packages (from matplotlib>=1.4.3->jupyterthemes) (1.4.4)\n",
      "Requirement already satisfied: cycler>=0.10 in c:\\users\\vikas\\anaconda3\\lib\\site-packages (from matplotlib>=1.4.3->jupyterthemes) (0.11.0)\n",
      "Requirement already satisfied: pillow>=6.2.0 in c:\\users\\vikas\\anaconda3\\lib\\site-packages (from matplotlib>=1.4.3->jupyterthemes) (9.4.0)\n",
      "Requirement already satisfied: numpy>=1.20 in c:\\users\\vikas\\anaconda3\\lib\\site-packages (from matplotlib>=1.4.3->jupyterthemes) (1.23.5)\n",
      "Requirement already satisfied: pyparsing>=2.3.1 in c:\\users\\vikas\\anaconda3\\lib\\site-packages (from matplotlib>=1.4.3->jupyterthemes) (3.0.9)\n",
      "Requirement already satisfied: contourpy>=1.0.1 in c:\\users\\vikas\\anaconda3\\lib\\site-packages (from matplotlib>=1.4.3->jupyterthemes) (1.0.5)\n",
      "Requirement already satisfied: fonttools>=4.22.0 in c:\\users\\vikas\\anaconda3\\lib\\site-packages (from matplotlib>=1.4.3->jupyterthemes) (4.25.0)\n",
      "Requirement already satisfied: python-dateutil>=2.7 in c:\\users\\vikas\\anaconda3\\lib\\site-packages (from matplotlib>=1.4.3->jupyterthemes) (2.8.2)\n",
      "Requirement already satisfied: ipython-genutils in c:\\users\\vikas\\anaconda3\\lib\\site-packages (from notebook>=5.6.0->jupyterthemes) (0.2.0)\n",
      "Requirement already satisfied: jupyter-client>=5.3.4 in c:\\users\\vikas\\anaconda3\\lib\\site-packages (from notebook>=5.6.0->jupyterthemes) (7.3.4)\n",
      "Requirement already satisfied: prometheus-client in c:\\users\\vikas\\anaconda3\\lib\\site-packages (from notebook>=5.6.0->jupyterthemes) (0.14.1)\n",
      "Requirement already satisfied: terminado>=0.8.3 in c:\\users\\vikas\\anaconda3\\lib\\site-packages (from notebook>=5.6.0->jupyterthemes) (0.17.1)\n",
      "Requirement already satisfied: nest-asyncio>=1.5 in c:\\users\\vikas\\anaconda3\\lib\\site-packages (from notebook>=5.6.0->jupyterthemes) (1.5.6)\n",
      "Requirement already satisfied: pyzmq>=17 in c:\\users\\vikas\\anaconda3\\lib\\site-packages (from notebook>=5.6.0->jupyterthemes) (23.2.0)\n",
      "Requirement already satisfied: nbformat in c:\\users\\vikas\\anaconda3\\lib\\site-packages (from notebook>=5.6.0->jupyterthemes) (5.7.0)\n",
      "Requirement already satisfied: nbconvert>=5 in c:\\users\\vikas\\anaconda3\\lib\\site-packages (from notebook>=5.6.0->jupyterthemes) (6.5.4)\n",
      "Requirement already satisfied: argon2-cffi in c:\\users\\vikas\\anaconda3\\lib\\site-packages (from notebook>=5.6.0->jupyterthemes) (21.3.0)\n",
      "Requirement already satisfied: nbclassic>=0.4.7 in c:\\users\\vikas\\anaconda3\\lib\\site-packages (from notebook>=5.6.0->jupyterthemes) (0.5.2)\n",
      "Requirement already satisfied: jinja2 in c:\\users\\vikas\\anaconda3\\lib\\site-packages (from notebook>=5.6.0->jupyterthemes) (3.1.2)\n",
      "Requirement already satisfied: tornado>=6.1 in c:\\users\\vikas\\anaconda3\\lib\\site-packages (from notebook>=5.6.0->jupyterthemes) (6.1)\n",
      "Requirement already satisfied: Send2Trash>=1.8.0 in c:\\users\\vikas\\anaconda3\\lib\\site-packages (from notebook>=5.6.0->jupyterthemes) (1.8.0)\n",
      "Requirement already satisfied: ipykernel in c:\\users\\vikas\\anaconda3\\lib\\site-packages (from notebook>=5.6.0->jupyterthemes) (6.19.2)\n",
      "Requirement already satisfied: pywin32>=1.0 in c:\\users\\vikas\\anaconda3\\lib\\site-packages (from jupyter-core->jupyterthemes) (305.1)\n",
      "Requirement already satisfied: platformdirs>=2.5 in c:\\users\\vikas\\anaconda3\\lib\\site-packages (from jupyter-core->jupyterthemes) (2.5.2)\n",
      "Requirement already satisfied: parso<0.9.0,>=0.8.0 in c:\\users\\vikas\\anaconda3\\lib\\site-packages (from jedi>=0.16->ipython>=5.4.1->jupyterthemes) (0.8.3)\n",
      "Requirement already satisfied: entrypoints in c:\\users\\vikas\\anaconda3\\lib\\site-packages (from jupyter-client>=5.3.4->notebook>=5.6.0->jupyterthemes) (0.4)\n",
      "Requirement already satisfied: notebook-shim>=0.1.0 in c:\\users\\vikas\\anaconda3\\lib\\site-packages (from nbclassic>=0.4.7->notebook>=5.6.0->jupyterthemes) (0.2.2)\n",
      "Requirement already satisfied: jupyter-server>=1.8 in c:\\users\\vikas\\anaconda3\\lib\\site-packages (from nbclassic>=0.4.7->notebook>=5.6.0->jupyterthemes) (1.23.4)\n",
      "Requirement already satisfied: nbclient>=0.5.0 in c:\\users\\vikas\\anaconda3\\lib\\site-packages (from nbconvert>=5->notebook>=5.6.0->jupyterthemes) (0.5.13)\n",
      "Requirement already satisfied: beautifulsoup4 in c:\\users\\vikas\\anaconda3\\lib\\site-packages (from nbconvert>=5->notebook>=5.6.0->jupyterthemes) (4.11.1)\n",
      "Requirement already satisfied: lxml in c:\\users\\vikas\\anaconda3\\lib\\site-packages (from nbconvert>=5->notebook>=5.6.0->jupyterthemes) (4.9.1)\n",
      "Requirement already satisfied: MarkupSafe>=2.0 in c:\\users\\vikas\\anaconda3\\lib\\site-packages (from nbconvert>=5->notebook>=5.6.0->jupyterthemes) (2.1.1)\n",
      "Requirement already satisfied: jupyterlab-pygments in c:\\users\\vikas\\anaconda3\\lib\\site-packages (from nbconvert>=5->notebook>=5.6.0->jupyterthemes) (0.1.2)\n",
      "Requirement already satisfied: mistune<2,>=0.8.1 in c:\\users\\vikas\\anaconda3\\lib\\site-packages (from nbconvert>=5->notebook>=5.6.0->jupyterthemes) (0.8.4)\n",
      "Requirement already satisfied: bleach in c:\\users\\vikas\\anaconda3\\lib\\site-packages (from nbconvert>=5->notebook>=5.6.0->jupyterthemes) (4.1.0)\n",
      "Requirement already satisfied: defusedxml in c:\\users\\vikas\\anaconda3\\lib\\site-packages (from nbconvert>=5->notebook>=5.6.0->jupyterthemes) (0.7.1)\n",
      "Requirement already satisfied: tinycss2 in c:\\users\\vikas\\anaconda3\\lib\\site-packages (from nbconvert>=5->notebook>=5.6.0->jupyterthemes) (1.2.1)\n",
      "Requirement already satisfied: pandocfilters>=1.4.1 in c:\\users\\vikas\\anaconda3\\lib\\site-packages (from nbconvert>=5->notebook>=5.6.0->jupyterthemes) (1.5.0)\n",
      "Requirement already satisfied: jsonschema>=2.6 in c:\\users\\vikas\\anaconda3\\lib\\site-packages (from nbformat->notebook>=5.6.0->jupyterthemes) (4.17.3)\n",
      "Requirement already satisfied: fastjsonschema in c:\\users\\vikas\\anaconda3\\lib\\site-packages (from nbformat->notebook>=5.6.0->jupyterthemes) (2.16.2)\n",
      "Requirement already satisfied: wcwidth in c:\\users\\vikas\\anaconda3\\lib\\site-packages (from prompt-toolkit<3.1.0,>=3.0.30->ipython>=5.4.1->jupyterthemes) (0.2.5)\n",
      "Requirement already satisfied: six>=1.5 in c:\\users\\vikas\\anaconda3\\lib\\site-packages (from python-dateutil>=2.7->matplotlib>=1.4.3->jupyterthemes) (1.16.0)\n",
      "Requirement already satisfied: pywinpty>=1.1.0 in c:\\users\\vikas\\anaconda3\\lib\\site-packages (from terminado>=0.8.3->notebook>=5.6.0->jupyterthemes) (2.0.10)\n",
      "Requirement already satisfied: argon2-cffi-bindings in c:\\users\\vikas\\anaconda3\\lib\\site-packages (from argon2-cffi->notebook>=5.6.0->jupyterthemes) (21.2.0)\n",
      "Requirement already satisfied: debugpy>=1.0 in c:\\users\\vikas\\anaconda3\\lib\\site-packages (from ipykernel->notebook>=5.6.0->jupyterthemes) (1.5.1)\n",
      "Requirement already satisfied: psutil in c:\\users\\vikas\\anaconda3\\lib\\site-packages (from ipykernel->notebook>=5.6.0->jupyterthemes) (5.9.0)\n",
      "Requirement already satisfied: comm>=0.1.1 in c:\\users\\vikas\\anaconda3\\lib\\site-packages (from ipykernel->notebook>=5.6.0->jupyterthemes) (0.1.2)\n",
      "Requirement already satisfied: executing in c:\\users\\vikas\\anaconda3\\lib\\site-packages (from stack-data->ipython>=5.4.1->jupyterthemes) (0.8.3)\n",
      "Requirement already satisfied: asttokens in c:\\users\\vikas\\anaconda3\\lib\\site-packages (from stack-data->ipython>=5.4.1->jupyterthemes) (2.0.5)\n",
      "Requirement already satisfied: pure-eval in c:\\users\\vikas\\anaconda3\\lib\\site-packages (from stack-data->ipython>=5.4.1->jupyterthemes) (0.2.2)\n",
      "Requirement already satisfied: attrs>=17.4.0 in c:\\users\\vikas\\anaconda3\\lib\\site-packages (from jsonschema>=2.6->nbformat->notebook>=5.6.0->jupyterthemes) (22.1.0)\n",
      "Requirement already satisfied: pyrsistent!=0.17.0,!=0.17.1,!=0.17.2,>=0.14.0 in c:\\users\\vikas\\anaconda3\\lib\\site-packages (from jsonschema>=2.6->nbformat->notebook>=5.6.0->jupyterthemes) (0.18.0)\n",
      "Requirement already satisfied: anyio<4,>=3.1.0 in c:\\users\\vikas\\anaconda3\\lib\\site-packages (from jupyter-server>=1.8->nbclassic>=0.4.7->notebook>=5.6.0->jupyterthemes) (3.5.0)\n",
      "Requirement already satisfied: websocket-client in c:\\users\\vikas\\anaconda3\\lib\\site-packages (from jupyter-server>=1.8->nbclassic>=0.4.7->notebook>=5.6.0->jupyterthemes) (0.58.0)\n",
      "Requirement already satisfied: cffi>=1.0.1 in c:\\users\\vikas\\anaconda3\\lib\\site-packages (from argon2-cffi-bindings->argon2-cffi->notebook>=5.6.0->jupyterthemes) (1.15.1)\n",
      "Requirement already satisfied: soupsieve>1.2 in c:\\users\\vikas\\anaconda3\\lib\\site-packages (from beautifulsoup4->nbconvert>=5->notebook>=5.6.0->jupyterthemes) (2.3.2.post1)\n",
      "Requirement already satisfied: webencodings in c:\\users\\vikas\\anaconda3\\lib\\site-packages (from bleach->nbconvert>=5->notebook>=5.6.0->jupyterthemes) (0.5.1)\n",
      "Requirement already satisfied: idna>=2.8 in c:\\users\\vikas\\anaconda3\\lib\\site-packages (from anyio<4,>=3.1.0->jupyter-server>=1.8->nbclassic>=0.4.7->notebook>=5.6.0->jupyterthemes) (3.4)\n",
      "Requirement already satisfied: sniffio>=1.1 in c:\\users\\vikas\\anaconda3\\lib\\site-packages (from anyio<4,>=3.1.0->jupyter-server>=1.8->nbclassic>=0.4.7->notebook>=5.6.0->jupyterthemes) (1.2.0)\n",
      "Requirement already satisfied: pycparser in c:\\users\\vikas\\anaconda3\\lib\\site-packages (from cffi>=1.0.1->argon2-cffi-bindings->argon2-cffi->notebook>=5.6.0->jupyterthemes) (2.21)\n",
      "Installing collected packages: lesscpy, jupyterthemes\n",
      "Successfully installed jupyterthemes-0.20.0 lesscpy-0.15.1\n"
     ]
    },
    {
     "name": "stderr",
     "output_type": "stream",
     "text": [
      "  WARNING: Retrying (Retry(total=4, connect=None, read=None, redirect=None, status=None)) after connection broken by 'SSLError(SSLError(1, '[SSL: TLSV1_ALERT_DECODE_ERROR] tlsv1 alert decode error (_ssl.c:997)'))': /packages/8a/08/9dee6dfd7f2aad6c30282d55c8f495b4dc1e4747b4e2bdbeb80572ddf312/jupyterthemes-0.20.0-py2.py3-none-any.whl\n"
     ]
    }
   ],
   "source": [
    "!pip install jupyterthemes"
   ]
  },
  {
   "cell_type": "code",
   "execution_count": 9,
   "id": "0c8261a9",
   "metadata": {},
   "outputs": [
    {
     "name": "stdout",
     "output_type": "stream",
     "text": [
      "Requirement already satisfied: jupyterthemes in c:\\users\\vikas\\anaconda3\\lib\\site-packages (0.20.0)\n",
      "Requirement already satisfied: jupyter-core in c:\\users\\vikas\\anaconda3\\lib\\site-packages (from jupyterthemes) (5.2.0)\n",
      "Requirement already satisfied: ipython>=5.4.1 in c:\\users\\vikas\\anaconda3\\lib\\site-packages (from jupyterthemes) (8.10.0)\n",
      "Requirement already satisfied: matplotlib>=1.4.3 in c:\\users\\vikas\\anaconda3\\lib\\site-packages (from jupyterthemes) (3.7.0)\n",
      "Requirement already satisfied: notebook>=5.6.0 in c:\\users\\vikas\\anaconda3\\lib\\site-packages (from jupyterthemes) (6.5.2)\n",
      "Requirement already satisfied: lesscpy>=0.11.2 in c:\\users\\vikas\\anaconda3\\lib\\site-packages (from jupyterthemes) (0.15.1)\n",
      "Requirement already satisfied: pygments>=2.4.0 in c:\\users\\vikas\\anaconda3\\lib\\site-packages (from ipython>=5.4.1->jupyterthemes) (2.11.2)\n",
      "Requirement already satisfied: jedi>=0.16 in c:\\users\\vikas\\anaconda3\\lib\\site-packages (from ipython>=5.4.1->jupyterthemes) (0.18.1)\n",
      "Requirement already satisfied: matplotlib-inline in c:\\users\\vikas\\anaconda3\\lib\\site-packages (from ipython>=5.4.1->jupyterthemes) (0.1.6)\n",
      "Requirement already satisfied: stack-data in c:\\users\\vikas\\anaconda3\\lib\\site-packages (from ipython>=5.4.1->jupyterthemes) (0.2.0)\n",
      "Requirement already satisfied: traitlets>=5 in c:\\users\\vikas\\anaconda3\\lib\\site-packages (from ipython>=5.4.1->jupyterthemes) (5.7.1)\n",
      "Requirement already satisfied: colorama in c:\\users\\vikas\\anaconda3\\lib\\site-packages (from ipython>=5.4.1->jupyterthemes) (0.4.6)\n",
      "Requirement already satisfied: decorator in c:\\users\\vikas\\anaconda3\\lib\\site-packages (from ipython>=5.4.1->jupyterthemes) (5.1.1)\n",
      "Requirement already satisfied: prompt-toolkit<3.1.0,>=3.0.30 in c:\\users\\vikas\\anaconda3\\lib\\site-packages (from ipython>=5.4.1->jupyterthemes) (3.0.36)\n",
      "Requirement already satisfied: backcall in c:\\users\\vikas\\anaconda3\\lib\\site-packages (from ipython>=5.4.1->jupyterthemes) (0.2.0)\n",
      "Requirement already satisfied: pickleshare in c:\\users\\vikas\\anaconda3\\lib\\site-packages (from ipython>=5.4.1->jupyterthemes) (0.7.5)\n",
      "Requirement already satisfied: ply in c:\\users\\vikas\\anaconda3\\lib\\site-packages (from lesscpy>=0.11.2->jupyterthemes) (3.11)\n",
      "Requirement already satisfied: kiwisolver>=1.0.1 in c:\\users\\vikas\\anaconda3\\lib\\site-packages (from matplotlib>=1.4.3->jupyterthemes) (1.4.4)\n",
      "Requirement already satisfied: packaging>=20.0 in c:\\users\\vikas\\anaconda3\\lib\\site-packages (from matplotlib>=1.4.3->jupyterthemes) (22.0)\n",
      "Requirement already satisfied: python-dateutil>=2.7 in c:\\users\\vikas\\anaconda3\\lib\\site-packages (from matplotlib>=1.4.3->jupyterthemes) (2.8.2)\n",
      "Requirement already satisfied: pyparsing>=2.3.1 in c:\\users\\vikas\\anaconda3\\lib\\site-packages (from matplotlib>=1.4.3->jupyterthemes) (3.0.9)\n",
      "Requirement already satisfied: numpy>=1.20 in c:\\users\\vikas\\anaconda3\\lib\\site-packages (from matplotlib>=1.4.3->jupyterthemes) (1.23.5)\n",
      "Requirement already satisfied: fonttools>=4.22.0 in c:\\users\\vikas\\anaconda3\\lib\\site-packages (from matplotlib>=1.4.3->jupyterthemes) (4.25.0)\n",
      "Requirement already satisfied: pillow>=6.2.0 in c:\\users\\vikas\\anaconda3\\lib\\site-packages (from matplotlib>=1.4.3->jupyterthemes) (9.4.0)\n",
      "Requirement already satisfied: cycler>=0.10 in c:\\users\\vikas\\anaconda3\\lib\\site-packages (from matplotlib>=1.4.3->jupyterthemes) (0.11.0)\n",
      "Requirement already satisfied: contourpy>=1.0.1 in c:\\users\\vikas\\anaconda3\\lib\\site-packages (from matplotlib>=1.4.3->jupyterthemes) (1.0.5)\n",
      "Requirement already satisfied: prometheus-client in c:\\users\\vikas\\anaconda3\\lib\\site-packages (from notebook>=5.6.0->jupyterthemes) (0.14.1)\n",
      "Requirement already satisfied: ipykernel in c:\\users\\vikas\\anaconda3\\lib\\site-packages (from notebook>=5.6.0->jupyterthemes) (6.19.2)\n",
      "Requirement already satisfied: ipython-genutils in c:\\users\\vikas\\anaconda3\\lib\\site-packages (from notebook>=5.6.0->jupyterthemes) (0.2.0)\n",
      "Requirement already satisfied: nbconvert>=5 in c:\\users\\vikas\\anaconda3\\lib\\site-packages (from notebook>=5.6.0->jupyterthemes) (6.5.4)\n",
      "Requirement already satisfied: nest-asyncio>=1.5 in c:\\users\\vikas\\anaconda3\\lib\\site-packages (from notebook>=5.6.0->jupyterthemes) (1.5.6)\n",
      "Requirement already satisfied: tornado>=6.1 in c:\\users\\vikas\\anaconda3\\lib\\site-packages (from notebook>=5.6.0->jupyterthemes) (6.1)\n",
      "Requirement already satisfied: nbformat in c:\\users\\vikas\\anaconda3\\lib\\site-packages (from notebook>=5.6.0->jupyterthemes) (5.7.0)\n",
      "Requirement already satisfied: pyzmq>=17 in c:\\users\\vikas\\anaconda3\\lib\\site-packages (from notebook>=5.6.0->jupyterthemes) (23.2.0)\n",
      "Requirement already satisfied: jinja2 in c:\\users\\vikas\\anaconda3\\lib\\site-packages (from notebook>=5.6.0->jupyterthemes) (3.1.2)\n",
      "Requirement already satisfied: Send2Trash>=1.8.0 in c:\\users\\vikas\\anaconda3\\lib\\site-packages (from notebook>=5.6.0->jupyterthemes) (1.8.0)\n",
      "Requirement already satisfied: nbclassic>=0.4.7 in c:\\users\\vikas\\anaconda3\\lib\\site-packages (from notebook>=5.6.0->jupyterthemes) (0.5.2)\n",
      "Requirement already satisfied: argon2-cffi in c:\\users\\vikas\\anaconda3\\lib\\site-packages (from notebook>=5.6.0->jupyterthemes) (21.3.0)\n",
      "Requirement already satisfied: terminado>=0.8.3 in c:\\users\\vikas\\anaconda3\\lib\\site-packages (from notebook>=5.6.0->jupyterthemes) (0.17.1)\n",
      "Requirement already satisfied: jupyter-client>=5.3.4 in c:\\users\\vikas\\anaconda3\\lib\\site-packages (from notebook>=5.6.0->jupyterthemes) (7.3.4)\n",
      "Requirement already satisfied: pywin32>=1.0 in c:\\users\\vikas\\anaconda3\\lib\\site-packages (from jupyter-core->jupyterthemes) (305.1)\n",
      "Requirement already satisfied: platformdirs>=2.5 in c:\\users\\vikas\\anaconda3\\lib\\site-packages (from jupyter-core->jupyterthemes) (2.5.2)\n",
      "Requirement already satisfied: parso<0.9.0,>=0.8.0 in c:\\users\\vikas\\anaconda3\\lib\\site-packages (from jedi>=0.16->ipython>=5.4.1->jupyterthemes) (0.8.3)\n",
      "Requirement already satisfied: entrypoints in c:\\users\\vikas\\anaconda3\\lib\\site-packages (from jupyter-client>=5.3.4->notebook>=5.6.0->jupyterthemes) (0.4)\n",
      "Requirement already satisfied: notebook-shim>=0.1.0 in c:\\users\\vikas\\anaconda3\\lib\\site-packages (from nbclassic>=0.4.7->notebook>=5.6.0->jupyterthemes) (0.2.2)\n",
      "Requirement already satisfied: jupyter-server>=1.8 in c:\\users\\vikas\\anaconda3\\lib\\site-packages (from nbclassic>=0.4.7->notebook>=5.6.0->jupyterthemes) (1.23.4)\n",
      "Requirement already satisfied: defusedxml in c:\\users\\vikas\\anaconda3\\lib\\site-packages (from nbconvert>=5->notebook>=5.6.0->jupyterthemes) (0.7.1)\n",
      "Requirement already satisfied: lxml in c:\\users\\vikas\\anaconda3\\lib\\site-packages (from nbconvert>=5->notebook>=5.6.0->jupyterthemes) (4.9.1)\n",
      "Requirement already satisfied: MarkupSafe>=2.0 in c:\\users\\vikas\\anaconda3\\lib\\site-packages (from nbconvert>=5->notebook>=5.6.0->jupyterthemes) (2.1.1)\n",
      "Requirement already satisfied: bleach in c:\\users\\vikas\\anaconda3\\lib\\site-packages (from nbconvert>=5->notebook>=5.6.0->jupyterthemes) (4.1.0)\n",
      "Requirement already satisfied: mistune<2,>=0.8.1 in c:\\users\\vikas\\anaconda3\\lib\\site-packages (from nbconvert>=5->notebook>=5.6.0->jupyterthemes) (0.8.4)\n",
      "Requirement already satisfied: beautifulsoup4 in c:\\users\\vikas\\anaconda3\\lib\\site-packages (from nbconvert>=5->notebook>=5.6.0->jupyterthemes) (4.11.1)\n",
      "Requirement already satisfied: jupyterlab-pygments in c:\\users\\vikas\\anaconda3\\lib\\site-packages (from nbconvert>=5->notebook>=5.6.0->jupyterthemes) (0.1.2)\n",
      "Requirement already satisfied: pandocfilters>=1.4.1 in c:\\users\\vikas\\anaconda3\\lib\\site-packages (from nbconvert>=5->notebook>=5.6.0->jupyterthemes) (1.5.0)\n",
      "Requirement already satisfied: tinycss2 in c:\\users\\vikas\\anaconda3\\lib\\site-packages (from nbconvert>=5->notebook>=5.6.0->jupyterthemes) (1.2.1)\n",
      "Requirement already satisfied: nbclient>=0.5.0 in c:\\users\\vikas\\anaconda3\\lib\\site-packages (from nbconvert>=5->notebook>=5.6.0->jupyterthemes) (0.5.13)\n",
      "Requirement already satisfied: fastjsonschema in c:\\users\\vikas\\anaconda3\\lib\\site-packages (from nbformat->notebook>=5.6.0->jupyterthemes) (2.16.2)\n",
      "Requirement already satisfied: jsonschema>=2.6 in c:\\users\\vikas\\anaconda3\\lib\\site-packages (from nbformat->notebook>=5.6.0->jupyterthemes) (4.17.3)\n",
      "Requirement already satisfied: wcwidth in c:\\users\\vikas\\anaconda3\\lib\\site-packages (from prompt-toolkit<3.1.0,>=3.0.30->ipython>=5.4.1->jupyterthemes) (0.2.5)\n",
      "Requirement already satisfied: six>=1.5 in c:\\users\\vikas\\anaconda3\\lib\\site-packages (from python-dateutil>=2.7->matplotlib>=1.4.3->jupyterthemes) (1.16.0)\n",
      "Requirement already satisfied: pywinpty>=1.1.0 in c:\\users\\vikas\\anaconda3\\lib\\site-packages (from terminado>=0.8.3->notebook>=5.6.0->jupyterthemes) (2.0.10)\n",
      "Requirement already satisfied: argon2-cffi-bindings in c:\\users\\vikas\\anaconda3\\lib\\site-packages (from argon2-cffi->notebook>=5.6.0->jupyterthemes) (21.2.0)\n",
      "Requirement already satisfied: debugpy>=1.0 in c:\\users\\vikas\\anaconda3\\lib\\site-packages (from ipykernel->notebook>=5.6.0->jupyterthemes) (1.5.1)\n",
      "Requirement already satisfied: psutil in c:\\users\\vikas\\anaconda3\\lib\\site-packages (from ipykernel->notebook>=5.6.0->jupyterthemes) (5.9.0)\n",
      "Requirement already satisfied: comm>=0.1.1 in c:\\users\\vikas\\anaconda3\\lib\\site-packages (from ipykernel->notebook>=5.6.0->jupyterthemes) (0.1.2)\n",
      "Requirement already satisfied: asttokens in c:\\users\\vikas\\anaconda3\\lib\\site-packages (from stack-data->ipython>=5.4.1->jupyterthemes) (2.0.5)\n",
      "Requirement already satisfied: executing in c:\\users\\vikas\\anaconda3\\lib\\site-packages (from stack-data->ipython>=5.4.1->jupyterthemes) (0.8.3)\n",
      "Requirement already satisfied: pure-eval in c:\\users\\vikas\\anaconda3\\lib\\site-packages (from stack-data->ipython>=5.4.1->jupyterthemes) (0.2.2)\n",
      "Requirement already satisfied: attrs>=17.4.0 in c:\\users\\vikas\\anaconda3\\lib\\site-packages (from jsonschema>=2.6->nbformat->notebook>=5.6.0->jupyterthemes) (22.1.0)\n",
      "Requirement already satisfied: pyrsistent!=0.17.0,!=0.17.1,!=0.17.2,>=0.14.0 in c:\\users\\vikas\\anaconda3\\lib\\site-packages (from jsonschema>=2.6->nbformat->notebook>=5.6.0->jupyterthemes) (0.18.0)\n",
      "Requirement already satisfied: websocket-client in c:\\users\\vikas\\anaconda3\\lib\\site-packages (from jupyter-server>=1.8->nbclassic>=0.4.7->notebook>=5.6.0->jupyterthemes) (0.58.0)\n",
      "Requirement already satisfied: anyio<4,>=3.1.0 in c:\\users\\vikas\\anaconda3\\lib\\site-packages (from jupyter-server>=1.8->nbclassic>=0.4.7->notebook>=5.6.0->jupyterthemes) (3.5.0)\n",
      "Requirement already satisfied: cffi>=1.0.1 in c:\\users\\vikas\\anaconda3\\lib\\site-packages (from argon2-cffi-bindings->argon2-cffi->notebook>=5.6.0->jupyterthemes) (1.15.1)\n",
      "Requirement already satisfied: soupsieve>1.2 in c:\\users\\vikas\\anaconda3\\lib\\site-packages (from beautifulsoup4->nbconvert>=5->notebook>=5.6.0->jupyterthemes) (2.3.2.post1)\n",
      "Requirement already satisfied: webencodings in c:\\users\\vikas\\anaconda3\\lib\\site-packages (from bleach->nbconvert>=5->notebook>=5.6.0->jupyterthemes) (0.5.1)\n",
      "Requirement already satisfied: idna>=2.8 in c:\\users\\vikas\\anaconda3\\lib\\site-packages (from anyio<4,>=3.1.0->jupyter-server>=1.8->nbclassic>=0.4.7->notebook>=5.6.0->jupyterthemes) (3.4)\n",
      "Requirement already satisfied: sniffio>=1.1 in c:\\users\\vikas\\anaconda3\\lib\\site-packages (from anyio<4,>=3.1.0->jupyter-server>=1.8->nbclassic>=0.4.7->notebook>=5.6.0->jupyterthemes) (1.2.0)\n",
      "Requirement already satisfied: pycparser in c:\\users\\vikas\\anaconda3\\lib\\site-packages (from cffi>=1.0.1->argon2-cffi-bindings->argon2-cffi->notebook>=5.6.0->jupyterthemes) (2.21)\n"
     ]
    }
   ],
   "source": [
    "!pip install --upgrade jupyterthemes"
   ]
  },
  {
   "cell_type": "code",
   "execution_count": 12,
   "id": "245d9262",
   "metadata": {},
   "outputs": [],
   "source": [
    "!jt -t oceans16 -tf merriserif -tfs 14 -nf ptsans -nfs 14\n"
   ]
  },
  {
   "cell_type": "markdown",
   "id": "abd31d36",
   "metadata": {},
   "source": [
    "# Load The Model"
   ]
  },
  {
   "cell_type": "code",
   "execution_count": 16,
   "id": "9f53e6fa",
   "metadata": {},
   "outputs": [
    {
     "data": {
      "application/vnd.jupyter.widget-view+json": {
       "model_id": "8179979961674a1abaf547fd1d980082",
       "version_major": 2,
       "version_minor": 0
      },
      "text/plain": [
       "Downloading:   0%|          | 0.00/1.04M [00:00<?, ?B/s]"
      ]
     },
     "metadata": {},
     "output_type": "display_data"
    },
    {
     "name": "stderr",
     "output_type": "stream",
     "text": [
      "C:\\Users\\vikas\\anaconda3\\lib\\site-packages\\huggingface_hub\\file_download.py:123: UserWarning: `huggingface_hub` cache-system uses symlinks by default to efficiently store duplicated files but your machine does not support them in C:\\Users\\vikas\\.cache\\huggingface\\hub. Caching files will still work but in a degraded version that might require more space on your disk. This warning can be disabled by setting the `HF_HUB_DISABLE_SYMLINKS_WARNING` environment variable. For more details, see https://huggingface.co/docs/huggingface_hub/how-to-cache#limitations.\n",
      "To support symlinks on Windows, you either need to activate Developer Mode or to run Python as an administrator. In order to see activate developer mode, see this article: https://docs.microsoft.com/en-us/windows/apps/get-started/enable-your-device-for-development\n",
      "  warnings.warn(message)\n"
     ]
    },
    {
     "data": {
      "application/vnd.jupyter.widget-view+json": {
       "model_id": "a433f17de5c3490ea3f799db8c64893a",
       "version_major": 2,
       "version_minor": 0
      },
      "text/plain": [
       "Downloading:   0%|          | 0.00/456k [00:00<?, ?B/s]"
      ]
     },
     "metadata": {},
     "output_type": "display_data"
    },
    {
     "data": {
      "application/vnd.jupyter.widget-view+json": {
       "model_id": "3b6f4c2c6b0b41479315106bab48614c",
       "version_major": 2,
       "version_minor": 0
      },
      "text/plain": [
       "Downloading:   0%|          | 0.00/666 [00:00<?, ?B/s]"
      ]
     },
     "metadata": {},
     "output_type": "display_data"
    }
   ],
   "source": [
    "tokenizer = GPT2Tokenizer.from_pretrained('gpt2-large')"
   ]
  },
  {
   "cell_type": "code",
   "execution_count": 18,
   "id": "292e011c",
   "metadata": {},
   "outputs": [],
   "source": [
    "model = GPT2LMHeadModel.from_pretrained(\"gpt2-large\", pad_token_id=tokenizer.eos_token_id)"
   ]
  },
  {
   "cell_type": "code",
   "execution_count": 19,
   "id": "69f77c5b",
   "metadata": {},
   "outputs": [
    {
     "data": {
      "text/plain": [
       "50256"
      ]
     },
     "execution_count": 19,
     "metadata": {},
     "output_type": "execute_result"
    }
   ],
   "source": [
    "tokenizer.eos_token_id"
   ]
  },
  {
   "cell_type": "code",
   "execution_count": 22,
   "id": "ff47efe3",
   "metadata": {},
   "outputs": [
    {
     "data": {
      "text/plain": [
       "'<|endoftext|>'"
      ]
     },
     "execution_count": 22,
     "metadata": {},
     "output_type": "execute_result"
    }
   ],
   "source": [
    "tokenizer.decode(50256)"
   ]
  },
  {
   "cell_type": "code",
   "execution_count": 23,
   "id": "4c973350",
   "metadata": {},
   "outputs": [],
   "source": [
    "sentence = \"I love Felafel\"\n",
    "input_ids = tokenizer.encode(sentence, return_tensors='pt')"
   ]
  },
  {
   "cell_type": "code",
   "execution_count": 28,
   "id": "63e48759",
   "metadata": {},
   "outputs": [
    {
     "data": {
      "text/plain": [
       "tensor([[   40,  1842, 13937,  1878,   417]])"
      ]
     },
     "execution_count": 28,
     "metadata": {},
     "output_type": "execute_result"
    }
   ],
   "source": [
    "input_ids"
   ]
  },
  {
   "cell_type": "code",
   "execution_count": 30,
   "id": "3134ac40",
   "metadata": {},
   "outputs": [
    {
     "data": {
      "text/plain": [
       "'af'"
      ]
     },
     "execution_count": 30,
     "metadata": {},
     "output_type": "execute_result"
    }
   ],
   "source": [
    "tokenizer.decode(input_ids[0][3])"
   ]
  },
  {
   "cell_type": "code",
   "execution_count": 35,
   "id": "b176571d",
   "metadata": {},
   "outputs": [],
   "source": [
    "output = model.generate(input_ids, max_length = 100, num_beams=5, no_repeat_ngram_size=2, early_stopping=True)"
   ]
  },
  {
   "cell_type": "markdown",
   "id": "48eec26f",
   "metadata": {},
   "source": [
    "# Output"
   ]
  },
  {
   "cell_type": "code",
   "execution_count": 34,
   "id": "f88c916f",
   "metadata": {},
   "outputs": [
    {
     "data": {
      "text/plain": [
       "tensor([[   40,  1842, 13937,  1878,   417,    11,   475,   314,   836,   470,\n",
       "           892,   314,  1183,  1683,   307,  1498,   284,  4483,   340,   526,\n",
       "           198,   198,     1,    40,   760,    11,   314,   760,    13,   632,\n",
       "           338,   655,   326,   314,  1053,  1239,   550,   340,   878,    11,\n",
       "           523,   314,  1101,   407,  1654,   644,   284,   787,   286,   340,\n",
       "            13,   314,  1612,    11,   340,   338,   407,   588,   314,   460,\n",
       "           655,   467,   503,   290,  2822,   340,   422,   262, 16918,  3650,\n",
       "            11,   826,    30,   314,  1549,   423,   284,   467,   284,   262,\n",
       "          3650,   284,   651,   340,    11,   290,   788,   340,  1549,   307,\n",
       "          3750,   878,   314,   714,   651,   736,   284,   616,  2156,   526]])"
      ]
     },
     "execution_count": 34,
     "metadata": {},
     "output_type": "execute_result"
    }
   ],
   "source": [
    "output"
   ]
  },
  {
   "cell_type": "code",
   "execution_count": 33,
   "id": "98775329",
   "metadata": {},
   "outputs": [
    {
     "data": {
      "text/plain": [
       "'I love Felafel, but I don\\'t think I\\'ll ever be able to eat it.\"\\n\\n\"I know, I know. It\\'s just that I\\'ve never had it before, so I\\'m not sure what to make of it. I mean, it\\'s not like I can just go out and buy it from the grocery store, right? I\\'d have to go to the store to get it, and then it\\'d be gone before I could get back to my house.\"'"
      ]
     },
     "execution_count": 33,
     "metadata": {},
     "output_type": "execute_result"
    }
   ],
   "source": [
    "tokenizer.decode(output[0],skip_special_tokens=True)"
   ]
  },
  {
   "cell_type": "code",
   "execution_count": null,
   "id": "241522dd",
   "metadata": {},
   "outputs": [],
   "source": []
  }
 ],
 "metadata": {
  "kernelspec": {
   "display_name": "Python 3 (ipykernel)",
   "language": "python",
   "name": "python3"
  },
  "language_info": {
   "codemirror_mode": {
    "name": "ipython",
    "version": 3
   },
   "file_extension": ".py",
   "mimetype": "text/x-python",
   "name": "python",
   "nbconvert_exporter": "python",
   "pygments_lexer": "ipython3",
   "version": "3.10.9"
  }
 },
 "nbformat": 4,
 "nbformat_minor": 5
}
